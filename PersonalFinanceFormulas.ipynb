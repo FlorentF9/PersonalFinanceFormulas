{
 "cells": [
  {
   "cell_type": "markdown",
   "metadata": {},
   "source": [
    "# Personal Finance Formulas"
   ]
  },
  {
   "cell_type": "markdown",
   "metadata": {},
   "source": [
    "$$ 1+i_{annual} = (1+i_{monthly})^{12}$$"
   ]
  },
  {
   "cell_type": "code",
   "execution_count": null,
   "metadata": {
    "collapsed": true
   },
   "outputs": [],
   "source": [
    "### Annual/monthly interest rate ###\n",
    "def annual2monthly(i_annual=0):\n",
    "    return (1+i_annual)**(1/12)-1\n",
    "def monthly2annual(i_monthly=0):\n",
    "    return (1+i_monthly)**12-1"
   ]
  },
  {
   "cell_type": "markdown",
   "metadata": {},
   "source": [
    "## Savings - Future value"
   ]
  },
  {
   "cell_type": "markdown",
   "metadata": {},
   "source": [
    "#### Compound interest future value with monthly deposit\n",
    "\n",
    "* $n$ : months in period\n",
    "* $D$ : initial deposit\n",
    "* $d$ : monthly deposit (at the end of the month)\n",
    "* $i$ : monthly interest rate\n",
    "* $X_n$ : value at the end of the period\n",
    "\n",
    "$$X_n = D(1+i)^n + \\frac{(1+i)^{n}-1}{i} d$$"
   ]
  },
  {
   "cell_type": "code",
   "execution_count": null,
   "metadata": {
    "collapsed": true
   },
   "outputs": [],
   "source": [
    "### Compound interest with monthly deposit ###\n",
    "def compound(n_months=0, n_years=0, initial=0, deposit=0, i_monthly=0, i_annual=None):\n",
    "    n_months = 12*n_years + n_months\n",
    "    if n_months == 0:\n",
    "        return initial\n",
    "    if i_annual:\n",
    "        i_monthly = annual2monthly(i_annual)\n",
    "    if i_monthly == 0:\n",
    "        return initial + n_months*deposit\n",
    "    return initial*(1+i_monthly)**n_months + ((1+i_monthly)**n_months-1)/i_monthly*deposit"
   ]
  },
  {
   "cell_type": "code",
   "execution_count": null,
   "metadata": {
    "collapsed": false
   },
   "outputs": [],
   "source": []
  },
  {
   "cell_type": "markdown",
   "metadata": {},
   "source": [
    "## Performance measure"
   ]
  },
  {
   "cell_type": "markdown",
   "metadata": {},
   "source": [
    "#### Simple Dietz method\n",
    "\n",
    "* $X$ : final value\n",
    "* $D$ : initial value\n",
    "* $F$ : flow (positive in/negative out)\n",
    "* $R$ : return rate\n",
    "\n",
    "$$R = \\frac{X-D-F}{D+F/2}$$"
   ]
  },
  {
   "cell_type": "code",
   "execution_count": null,
   "metadata": {
    "collapsed": true
   },
   "outputs": [],
   "source": [
    "### Simple Dietz method ###\n",
    "# exact only if the flow is spread evenly accross the period\n",
    "def simple_dietz(final=0, initial=0, flow=0):\n",
    "    return (final-initial-flow)/(initial+flow/2)"
   ]
  },
  {
   "cell_type": "code",
   "execution_count": null,
   "metadata": {
    "collapsed": true
   },
   "outputs": [],
   "source": [
    "### Performance with monthly deposit (given final value) ###\n",
    "def performance_simple_final(n_months=0, n_years=0, final=0, initial=0, deposit=0):\n",
    "    n_months = 12*n_years + n_months\n",
    "    return simple_dietz(final, initial, flow=n_months*deposit)\n",
    "\n",
    "### Performance with monthly deposit (given interest rate) ###\n",
    "def performance_simple_i(n_months=0, n_years=0, initial=0, deposit=0, i_monthly=0, i_annual=None):\n",
    "    n_months = 12*n_years + n_months\n",
    "    if i_annual:\n",
    "        i_monthly = annual2monthly(i_annual)\n",
    "    return simple_dietz(compound(n_months, initial=initial, deposit=deposit, i_monthly=i_monthly),\n",
    "                        initial, flow=n_months*deposit)"
   ]
  },
  {
   "cell_type": "code",
   "execution_count": null,
   "metadata": {
    "collapsed": false
   },
   "outputs": [],
   "source": []
  }
 ],
 "metadata": {
  "kernelspec": {
   "display_name": "Python 3",
   "language": "python",
   "name": "python3"
  },
  "language_info": {
   "codemirror_mode": {
    "name": "ipython",
    "version": 3
   },
   "file_extension": ".py",
   "mimetype": "text/x-python",
   "name": "python",
   "nbconvert_exporter": "python",
   "pygments_lexer": "ipython3",
   "version": "3.5.2"
  }
 },
 "nbformat": 4,
 "nbformat_minor": 2
}
